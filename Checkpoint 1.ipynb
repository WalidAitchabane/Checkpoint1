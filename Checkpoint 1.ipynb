{
 "cells": [
  {
   "cell_type": "markdown",
   "id": "0cdf1dde",
   "metadata": {},
   "source": [
    "Solutions exercices"
   ]
  },
  {
   "cell_type": "code",
   "execution_count": 65,
   "id": "3314dc12",
   "metadata": {},
   "outputs": [],
   "source": [
    "import numpy as np\n",
    "from numpy import *\n"
   ]
  },
  {
   "cell_type": "markdown",
   "id": "88b70aa7",
   "metadata": {},
   "source": [
    "Exercice 1"
   ]
  },
  {
   "cell_type": "code",
   "execution_count": 57,
   "id": "5a21d558",
   "metadata": {},
   "outputs": [
    {
     "name": "stdout",
     "output_type": "stream",
     "text": [
      "[2002, 2009, 2016, 2023, 2037, 2044, 2051, 2058, 2072, 2079, 2086, 2093, 2107, 2114, 2121, 2128, 2142, 2149, 2156, 2163, 2177, 2184, 2191, 2198, 2212, 2219, 2226, 2233, 2247, 2254, 2261, 2268, 2282, 2289, 2296, 2303, 2317, 2324, 2331, 2338, 2352, 2359, 2366, 2373, 2387, 2394, 2401, 2408, 2422, 2429, 2436, 2443, 2457, 2464, 2471, 2478, 2492, 2499, 2506, 2513, 2527, 2534, 2541, 2548, 2562, 2569, 2576, 2583, 2597, 2604, 2611, 2618, 2632, 2639, 2646, 2653, 2667, 2674, 2681, 2688, 2702, 2709, 2716, 2723, 2737, 2744, 2751, 2758, 2772, 2779, 2786, 2793, 2807, 2814, 2821, 2828, 2842, 2849, 2856, 2863, 2877, 2884, 2891, 2898, 2912, 2919, 2926, 2933, 2947, 2954, 2961, 2968, 2982, 2989, 2996, 3003, 3017, 3024, 3031, 3038, 3052, 3059, 3066, 3073, 3087, 3094, 3101, 3108, 3122, 3129, 3136, 3143, 3157, 3164, 3171, 3178, 3192, 3199]\n"
     ]
    }
   ],
   "source": [
    "tab = []\n",
    "for i in range(2000,3201):\n",
    "    if i%7==0 and i%5!=0 :\n",
    "        tab.append(i)\n",
    "print(tab)"
   ]
  },
  {
   "cell_type": "markdown",
   "id": "cd51ba6c",
   "metadata": {},
   "source": [
    "Exercice 2"
   ]
  },
  {
   "cell_type": "code",
   "execution_count": 59,
   "id": "1a2b5d5c",
   "metadata": {},
   "outputs": [
    {
     "name": "stdout",
     "output_type": "stream",
     "text": [
      "Entrez une valeure positive: 6\n",
      "La factorielle de 6 est 720\n"
     ]
    }
   ],
   "source": [
    "fact = int(input(\"Entrez une valeure positive: \"))\n",
    "for i in range(fact-1):\n",
    "    fact = fact*(i+1)\n",
    "print(f\"La factorielle de {i+2} est {fact}\")"
   ]
  },
  {
   "cell_type": "markdown",
   "id": "aee316a8",
   "metadata": {},
   "source": [
    "Exercice 3"
   ]
  },
  {
   "cell_type": "code",
   "execution_count": 23,
   "id": "1395284c",
   "metadata": {},
   "outputs": [
    {
     "name": "stdout",
     "output_type": "stream",
     "text": [
      "{1: 1, 2: 4, 3: 9, 4: 16, 5: 25, 6: 36, 7: 49, 8: 64}\n"
     ]
    }
   ],
   "source": [
    "dic = {i: i*i  for i in range(1, 9)}\n",
    "print(dic)"
   ]
  },
  {
   "cell_type": "markdown",
   "id": "725d9820",
   "metadata": {},
   "source": [
    "Exercice 4"
   ]
  },
  {
   "cell_type": "code",
   "execution_count": 75,
   "id": "963f5ecb",
   "metadata": {},
   "outputs": [
    {
     "name": "stdout",
     "output_type": "stream",
     "text": [
      "Ecrire une chaine de caractère: aitchabane\n"
     ]
    },
    {
     "data": {
      "text/plain": [
       "'aitcabane'"
      ]
     },
     "execution_count": 75,
     "metadata": {},
     "output_type": "execute_result"
    }
   ],
   "source": [
    "missing_char = str(input(\"Ecrire une chaine de caractère: \"))\n",
    "missing_char.replace(missing_char[random.randint(0, len(missing_char))], '')"
   ]
  },
  {
   "cell_type": "markdown",
   "id": "46fd1bd5",
   "metadata": {},
   "source": [
    "Exercice 5"
   ]
  },
  {
   "cell_type": "code",
   "execution_count": 67,
   "id": "53651d07",
   "metadata": {},
   "outputs": [
    {
     "name": "stdout",
     "output_type": "stream",
     "text": [
      "Original array elements:\n",
      "[[0 1]\n",
      " [2 3]\n",
      " [4 5]]\n",
      "Array to list:\n",
      "[[0, 1], [2, 3], [4, 5]]\n"
     ]
    }
   ],
   "source": [
    "x= np.arange(6).reshape(3, 2)\n",
    "print(\"Original array elements:\")\n",
    "print(x)\n",
    "print(\"Array to list:\")\n",
    "print(x.tolist())"
   ]
  },
  {
   "cell_type": "markdown",
   "id": "7de06530",
   "metadata": {},
   "source": [
    "Exercice 6"
   ]
  },
  {
   "cell_type": "code",
   "execution_count": 55,
   "id": "60694cf5",
   "metadata": {},
   "outputs": [
    {
     "data": {
      "text/plain": [
       "array([[ 1., -1.],\n",
       "       [-1.,  1.]])"
      ]
     },
     "execution_count": 55,
     "metadata": {},
     "output_type": "execute_result"
    }
   ],
   "source": [
    "arr1 = []\n",
    "arr2 = []\n",
    "for i in range(3):\n",
    "    arr1.append(i)\n",
    "    arr2.append(3-i-1)\n",
    "np.cov(arr1, arr2)"
   ]
  },
  {
   "cell_type": "markdown",
   "id": "3c6441fd",
   "metadata": {},
   "source": [
    "Exercice 7"
   ]
  },
  {
   "cell_type": "code",
   "execution_count": 50,
   "id": "32756d59",
   "metadata": {},
   "outputs": [
    {
     "name": "stdout",
     "output_type": "stream",
     "text": [
      "La taille de vecteur d est: 3\n",
      "La valeur minimale de ce victeur est: 50\n",
      "Et la valeur maximale est: 100\n",
      "Le resulat est [13, 16, 13]\n"
     ]
    }
   ],
   "source": [
    "#print(math.sqrt((2 * c * d))/h)\n",
    "n = int(input(\"La taille de vecteur d est: \"))\n",
    "low = int(input(\"La valeur minimale de ce victeur est: \"))      \n",
    "high = int(input(\"Et la valeur maximale est: \"))\n",
    "q=[]\n",
    "d = [random.randint(low, high) for i in range(n)]\n",
    "\n",
    "for i in range(n):\n",
    "    q.append(int(math.sqrt((2 * 50 * d[i])/30)))\n",
    "print(f\"Le resulat est {q}\")"
   ]
  }
 ],
 "metadata": {
  "kernelspec": {
   "display_name": "Python 3 (ipykernel)",
   "language": "python",
   "name": "python3"
  },
  "language_info": {
   "codemirror_mode": {
    "name": "ipython",
    "version": 3
   },
   "file_extension": ".py",
   "mimetype": "text/x-python",
   "name": "python",
   "nbconvert_exporter": "python",
   "pygments_lexer": "ipython3",
   "version": "3.11.4"
  }
 },
 "nbformat": 4,
 "nbformat_minor": 5
}
